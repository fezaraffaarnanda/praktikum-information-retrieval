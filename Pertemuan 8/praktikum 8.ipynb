{
 "cells": [
  {
   "cell_type": "markdown",
   "metadata": {},
   "source": [
    "MODUL 8: PROBABILISTIC INFORMATION RETRIEVAL"
   ]
  },
  {
   "cell_type": "code",
   "execution_count": 50,
   "metadata": {},
   "outputs": [],
   "source": [
    "from rank_bm25 import BM25Okapi"
   ]
  },
  {
   "cell_type": "code",
   "execution_count": 51,
   "metadata": {},
   "outputs": [],
   "source": [
    "def tokenisasi(text):\n",
    "    tokens = text.split(\" \")\n",
    "    return tokens"
   ]
  },
  {
   "cell_type": "code",
   "execution_count": 81,
   "metadata": {},
   "outputs": [],
   "source": [
    "def stemming(text):\n",
    "    from Sastrawi.Stemmer.StemmerFactory import StemmerFactory\n",
    "    # create stemmer\n",
    "    factory = StemmerFactory()\n",
    "    stemmer = factory.create_stemmer()\n",
    "    # stemming process\n",
    "    output = stemmer.stem(text)\n",
    "    return output"
   ]
  },
  {
   "cell_type": "code",
   "execution_count": 53,
   "metadata": {},
   "outputs": [],
   "source": [
    "def stemming_sentence(text):\n",
    "    output = \"\"\n",
    "    for token in tokenisasi(text):\n",
    "        output = output + stemming(token) + \" \"\n",
    "    return output[:-1]"
   ]
  },
  {
   "cell_type": "code",
   "execution_count": 54,
   "metadata": {},
   "outputs": [],
   "source": [
    "doc_dict_raw = {}\n",
    "doc_dict_raw['doc1'] = \"pengembangan sistem informasi penjadwalan\"\n",
    "doc_dict_raw['doc2'] = \"pengembangan model analisis sentimen berita\"\n",
    "doc_dict_raw['doc3'] = \"analisis sistem input output\"\n",
    "doc_dict_raw['doc4'] = \"pengembangan sistem informasi akademik universitas\"\n",
    "doc_dict_raw['doc5'] = \"pengembangan sistem cari berita ekonomi\"\n",
    "doc_dict_raw['doc6'] = \"analisis sistem neraca nasional\"\n",
    "doc_dict_raw['doc7'] = \"pengembangan sistem informasi layanan statistik\"\n",
    "doc_dict_raw['doc8'] = \"pengembangan sistem pencarian skripsi di universitas\"\n",
    "doc_dict_raw['doc9'] = \"analisis sentimen publik terhadap pemerintah\"\n",
    "doc_dict_raw['doc10'] = \"pengembangan model klasifikasi sentimen berita\"\n",
    "doc_dict = {}\n",
    "for doc_id,doc in doc_dict_raw.items():\n",
    "    doc_dict[doc_id] = stemming_sentence(doc)\n",
    "\n",
    "tokenized_corpus = [tokenisasi(doc_dict[doc_id]) for doc_id in doc_dict]"
   ]
  },
  {
   "cell_type": "code",
   "execution_count": 55,
   "metadata": {},
   "outputs": [
    {
     "data": {
      "text/plain": [
       "{'doc1': 'kembang sistem informasi jadwal',\n",
       " 'doc2': 'kembang model analisis sentimen berita',\n",
       " 'doc3': 'analisis sistem input output',\n",
       " 'doc4': 'kembang sistem informasi akademik universitas',\n",
       " 'doc5': 'kembang sistem cari berita ekonomi',\n",
       " 'doc6': 'analisis sistem neraca nasional',\n",
       " 'doc7': 'kembang sistem informasi layan statistik',\n",
       " 'doc8': 'kembang sistem cari skripsi di universitas',\n",
       " 'doc9': 'analisis sentimen publik hadap perintah',\n",
       " 'doc10': 'kembang model klasifikasi sentimen berita'}"
      ]
     },
     "execution_count": 55,
     "metadata": {},
     "output_type": "execute_result"
    }
   ],
   "source": [
    "doc_dict"
   ]
  },
  {
   "cell_type": "code",
   "execution_count": 56,
   "metadata": {},
   "outputs": [
    {
     "data": {
      "text/plain": [
       "[['kembang', 'sistem', 'informasi', 'jadwal'],\n",
       " ['kembang', 'model', 'analisis', 'sentimen', 'berita'],\n",
       " ['analisis', 'sistem', 'input', 'output'],\n",
       " ['kembang', 'sistem', 'informasi', 'akademik', 'universitas'],\n",
       " ['kembang', 'sistem', 'cari', 'berita', 'ekonomi'],\n",
       " ['analisis', 'sistem', 'neraca', 'nasional'],\n",
       " ['kembang', 'sistem', 'informasi', 'layan', 'statistik'],\n",
       " ['kembang', 'sistem', 'cari', 'skripsi', 'di', 'universitas'],\n",
       " ['analisis', 'sentimen', 'publik', 'hadap', 'perintah'],\n",
       " ['kembang', 'model', 'klasifikasi', 'sentimen', 'berita']]"
      ]
     },
     "execution_count": 56,
     "metadata": {},
     "output_type": "execute_result"
    }
   ],
   "source": [
    "tokenized_corpus"
   ]
  },
  {
   "cell_type": "code",
   "execution_count": 57,
   "metadata": {},
   "outputs": [
    {
     "name": "stdout",
     "output_type": "stream",
     "text": [
      "[1.18979771 0.         0.36586252 1.08030712 0.33219419 0.36586252\n",
      " 2.89216154 0.30420029 0.         0.        ]\n"
     ]
    }
   ],
   "source": [
    "query = \"sistem informasi statistik\"\n",
    "\n",
    "tokenized_query = tokenisasi(query)\n",
    "\n",
    "bm25 = BM25Okapi(tokenized_corpus)\n",
    "\n",
    "doc_scores = bm25.get_scores(tokenized_query)\n",
    "\n",
    "print(doc_scores)"
   ]
  },
  {
   "cell_type": "code",
   "execution_count": 58,
   "metadata": {},
   "outputs": [
    {
     "name": "stdout",
     "output_type": "stream",
     "text": [
      "\n",
      "Query = sistem, \n",
      "BMR25 Scores = [0.36586252 0.         0.36586252 0.33219419 0.33219419 0.36586252\n",
      " 0.33219419 0.30420029 0.         0.        ]\n",
      "\n",
      "Query = informasi, \n",
      "BMR25 Scores = [0.82393519 0.         0.         0.74811293 0.         0.\n",
      " 0.74811293 0.         0.         0.        ]\n",
      "\n",
      "Query = statistik, \n",
      "BMR25 Scores = [0.         0.         0.         0.         0.         0.\n",
      " 1.81185442 0.         0.         0.        ]\n"
     ]
    }
   ],
   "source": [
    "queries = [\"sistem\",\"informasi\",\"statistik\"]\n",
    "\n",
    "for new_query in queries:\n",
    "    \n",
    "    tokenized_query = tokenisasi(new_query)\n",
    "\n",
    "    bm25 = BM25Okapi(tokenized_corpus)\n",
    "\n",
    "    dokumen_skor = bm25.get_scores(tokenized_query)\n",
    "\n",
    "    print(f\"\\nQuery = {new_query}, \\nBMR25 Scores = {dokumen_skor}\")"
   ]
  },
  {
   "cell_type": "code",
   "execution_count": 59,
   "metadata": {},
   "outputs": [],
   "source": [
    "from collections import OrderedDict\n",
    "\n",
    "def exact_top_k(doc_dict, rank_score, k):\n",
    "    relevance_scores = {}\n",
    "    i = 0\n",
    "    for doc_id in doc_dict.keys():\n",
    "        relevance_scores[doc_id] = rank_score[i]\n",
    "        i = i + 1\n",
    "    sorted_value = OrderedDict(sorted(relevance_scores.items(), key=lambda x: x[1], reverse = True))\n",
    "    top_k = {j: sorted_value[j] for j in list(sorted_value)[:k]}\n",
    "    return top_k"
   ]
  },
  {
   "cell_type": "code",
   "execution_count": 60,
   "metadata": {},
   "outputs": [
    {
     "data": {
      "text/plain": [
       "{'doc7': 2.892161541603838,\n",
       " 'doc1': 1.1897977081195452,\n",
       " 'doc4': 1.080307121482777}"
      ]
     },
     "execution_count": 60,
     "metadata": {},
     "output_type": "execute_result"
    }
   ],
   "source": [
    "exact_top_k(doc_dict,doc_scores,3)"
   ]
  },
  {
   "cell_type": "markdown",
   "metadata": {},
   "source": [
    "Kalo pake VSM di modul 5, exact top K dokumennya sama, yaitu doc7, doc1, dan doc4. Dengan skor\n",
    "\n",
    "{'doc7': 0.7689768599816609, 'doc1': 0.414904809442661, 'doc4': 0.35626622628022314}"
   ]
  },
  {
   "cell_type": "markdown",
   "metadata": {},
   "source": [
    "Penugasan"
   ]
  },
  {
   "cell_type": "markdown",
   "metadata": {},
   "source": [
    "Buat fungsi main untuk menampilkan 3 list dokumen yang terurut berdasarkan BM25 pada folder ”berita” dengan query ”vaksin corona jakarta”. Bandingkan dengan hasil perankingan cosine similarity pada modul 5."
   ]
  },
  {
   "cell_type": "code",
   "execution_count": 61,
   "metadata": {},
   "outputs": [],
   "source": [
    "import nltk\n",
    "from nltk.tokenize import word_tokenize\n",
    "def tokenisasi(text):\n",
    "    tokens = word_tokenize(text)\n",
    "    return tokens"
   ]
  },
  {
   "cell_type": "code",
   "execution_count": 78,
   "metadata": {},
   "outputs": [],
   "source": [
    "def stemming_sentence(text):\n",
    "    stemmed_tokens = [stemming(token) for token in tokenisasi(text)]\n",
    "    output = ' '.join(stemmed_tokens)\n",
    "    return output\n"
   ]
  },
  {
   "cell_type": "code",
   "execution_count": 62,
   "metadata": {},
   "outputs": [],
   "source": [
    "def case_folding(text):\n",
    "    text = text.lower()\n",
    "    return text"
   ]
  },
  {
   "cell_type": "code",
   "execution_count": 63,
   "metadata": {},
   "outputs": [],
   "source": [
    "from nltk.corpus import stopwords\n",
    "stop_words = set(stopwords.words('Indonesian'))"
   ]
  },
  {
   "cell_type": "code",
   "execution_count": 64,
   "metadata": {},
   "outputs": [],
   "source": [
    "def eliminasi_stopword(token):\n",
    "    return [kata for kata in token if kata not in stop_words]"
   ]
  },
  {
   "cell_type": "code",
   "execution_count": 65,
   "metadata": {},
   "outputs": [],
   "source": [
    "from Sastrawi.Stemmer.StemmerFactory import StemmerFactory\n",
    "def stemming(tokens):\n",
    "    # Membuat stemmer\n",
    "    factory = StemmerFactory()\n",
    "    stemmer = factory.create_stemmer()\n",
    "    return [stemmer.stem(token) for token in tokens]"
   ]
  },
  {
   "cell_type": "code",
   "execution_count": 66,
   "metadata": {},
   "outputs": [],
   "source": [
    "path = \"C:/Users/FEZA/My Drive/00. Drive PC/1.STIS/5. Semester 5/Information Retrieval [IR] P/berita\"\n"
   ]
  },
  {
   "cell_type": "code",
   "execution_count": 79,
   "metadata": {},
   "outputs": [],
   "source": [
    "\n",
    "import re\n",
    "import os\n",
    "inverted_index = {}\n",
    "doc_dict = {}\n",
    "i = 1\n",
    "for filename in os.listdir(path):\n",
    "    if (filename.endswith('.txt')):\n",
    "        file_path = os.path.join(path, filename)\n",
    "        # Ekstrak angka dari nama file menggunakan regular expressions\n",
    "        match = re.search(r'\\d+', filename)\n",
    "        if match:\n",
    "            doc_id = match.group() # Mengambil angka dari nama file sebagai dokumen ID\n",
    "            with open (file_path, mode='r', encoding='utf-8') as file:\n",
    "                text = file.read()\n",
    "                hasil_case_folding = case_folding(text)\n",
    "                token = tokenisasi(hasil_case_folding)\n",
    "                token_bersih = eliminasi_stopword(token)\n",
    "                stemm_token = stemming(token_bersih)\n",
    "                stemm_token_final = [item for item in stemm_token if item != ''] # membersihkan term kosong pada hasil stemming sebelumnya\n",
    "                # Menggabungkan hasil stemming menjadi sebuah teks/paragraf\n",
    "                doc_dict[doc_id] = ' '.join(stemm_token_final)\n",
    "                for term in set(stemm_token_final): # penggunaan set untuk mengantisipasi duplikasi term pada sebuah dokumen\n",
    "                    if term in inverted_index:\n",
    "                        inverted_index[term].append(doc_id)\n",
    "                    else:\n",
    "                        inverted_index[term] = [doc_id]"
   ]
  },
  {
   "cell_type": "code",
   "execution_count": 84,
   "metadata": {},
   "outputs": [],
   "source": [
    "for doc_id,doc in doc_dict_raw.items():\n",
    "    doc_dict[doc_id] = stemming_sentence(doc)\n",
    "\n",
    "tokenized_corpus_new = [tokenisasi(doc_dict[doc_id]) for doc_id in doc_dict]\n"
   ]
  },
  {
   "cell_type": "code",
   "execution_count": 85,
   "metadata": {},
   "outputs": [
    {
     "data": {
      "text/plain": [
       "[['wilayah',\n",
       "  'bebas',\n",
       "  'covid-19',\n",
       "  'cek',\n",
       "  '34',\n",
       "  'kab',\n",
       "  'kota',\n",
       "  'zona',\n",
       "  'hijau',\n",
       "  'baru',\n",
       "  'jakarta',\n",
       "  '-',\n",
       "  'perintah',\n",
       "  'rencana',\n",
       "  'terap',\n",
       "  'laku',\n",
       "  'batas',\n",
       "  'giat',\n",
       "  'masyarakat',\n",
       "  'ppkm',\n",
       "  'level',\n",
       "  '3',\n",
       "  'hitung',\n",
       "  '24',\n",
       "  'desember',\n",
       "  '2021',\n",
       "  '2',\n",
       "  'januari',\n",
       "  '2021',\n",
       "  'menteri',\n",
       "  'sehat',\n",
       "  'ri',\n",
       "  'bijak',\n",
       "  'ppkm',\n",
       "  'level',\n",
       "  '3',\n",
       "  'tahap',\n",
       "  'kaji',\n",
       "  'direktur',\n",
       "  'cegah',\n",
       "  'kendali',\n",
       "  'sakit',\n",
       "  'tular',\n",
       "  'langsung',\n",
       "  'p2pml',\n",
       "  'kemenkes',\n",
       "  'ri',\n",
       "  'dr',\n",
       "  'siti',\n",
       "  'nadia',\n",
       "  'tarmizi',\n",
       "  'ppkm',\n",
       "  'level',\n",
       "  '3',\n",
       "  'terap',\n",
       "  'covid-19',\n",
       "  'signifikan',\n",
       "  'picu',\n",
       "  'tingkat',\n",
       "  'mobilitas',\n",
       "  'longgar',\n",
       "  'protokol',\n",
       "  'sehat',\n",
       "  'https',\n",
       "  'health',\n",
       "  'detik',\n",
       "  'com',\n",
       "  'berita-detikhealth',\n",
       "  'd-5816690',\n",
       "  'wilayah-kamu-sudah-bebas-covid-19-cek-34-kabkota-zona-hijau-terbaru'],\n",
       " ['vaksin',\n",
       "  'covid-19',\n",
       "  'rutin',\n",
       "  'gantung',\n",
       "  'jelas',\n",
       "  'jakarta',\n",
       "  '-',\n",
       "  'beri',\n",
       "  'booster',\n",
       "  'dosis',\n",
       "  'tiga',\n",
       "  'vaksin',\n",
       "  'covid-19',\n",
       "  'indonesia',\n",
       "  'rencana',\n",
       "  'januari',\n",
       "  '2022',\n",
       "  'lantas',\n",
       "  'ada',\n",
       "  'vaksinasi',\n",
       "  'covid-19',\n",
       "  'vaksinasi',\n",
       "  'influenza',\n",
       "  'ketua',\n",
       "  'satgas',\n",
       "  'covid-19',\n",
       "  'ikat',\n",
       "  'dokter',\n",
       "  'indonesia',\n",
       "  'idi',\n",
       "  'prof',\n",
       "  'zubairi',\n",
       "  'djoerban',\n",
       "  'pasti',\n",
       "  'kait',\n",
       "  'turut',\n",
       "  'vaksin',\n",
       "  'covid-19',\n",
       "  'booster',\n",
       "  'vaksinasi',\n",
       "  'covid-19',\n",
       "  'https',\n",
       "  'health',\n",
       "  'detik',\n",
       "  'com',\n",
       "  'berita-detikhealth',\n",
       "  'd-5816582',\n",
       "  'vaksin-covid-19-bakal-rutin-setiap-tahun-tergantung-ini-penjelasannya'],\n",
       " ['ri',\n",
       "  'suntik',\n",
       "  'booster',\n",
       "  '2022',\n",
       "  'ampuh',\n",
       "  'lawan',\n",
       "  'varian',\n",
       "  'delta',\n",
       "  'cs',\n",
       "  'jakarta',\n",
       "  '-',\n",
       "  'pakar',\n",
       "  'aku',\n",
       "  'vaksin',\n",
       "  'dosis',\n",
       "  '1-2',\n",
       "  'alami',\n",
       "  'turun',\n",
       "  'efektivitas',\n",
       "  'varian',\n",
       "  'corona',\n",
       "  'varian',\n",
       "  'delta',\n",
       "  'booster',\n",
       "  'dosis',\n",
       "  'tiga',\n",
       "  'vaksin',\n",
       "  'covid-19',\n",
       "  'indonesia',\n",
       "  '2022',\n",
       "  'jenis',\n",
       "  'vaksin',\n",
       "  'ikut',\n",
       "  'strain',\n",
       "  'virus',\n",
       "  'baru',\n",
       "  'ketua',\n",
       "  'satgas',\n",
       "  'covid-19',\n",
       "  'ikat',\n",
       "  'dokter',\n",
       "  'indonesia',\n",
       "  'idi',\n",
       "  'prof',\n",
       "  'zubairi',\n",
       "  'djoerban',\n",
       "  'singgung',\n",
       "  'riset',\n",
       "  'kait',\n",
       "  'efektivitas',\n",
       "  'vaksin',\n",
       "  'covid-19',\n",
       "  'dosis',\n",
       "  '1',\n",
       "  '2',\n",
       "  'sebut',\n",
       "  'dasar',\n",
       "  'riset',\n",
       "  'efektivitas',\n",
       "  'vaksin',\n",
       "  'covid-19',\n",
       "  'pfizer',\n",
       "  'moderna',\n",
       "  'bukti',\n",
       "  'turun',\n",
       "  'lawan',\n",
       "  'varian',\n",
       "  'delta',\n",
       "  'https',\n",
       "  'health',\n",
       "  'detik',\n",
       "  'com',\n",
       "  'berita-detikhealth',\n",
       "  'd-5816534',\n",
       "  'ri-mulai-suntikkan-booster-di-2022-masihkah-ampuh-lawan-varian-delta-cs'],\n",
       " ['alert',\n",
       "  'varian',\n",
       "  'delta',\n",
       "  'covid-19',\n",
       "  'dki',\n",
       "  'tingkat',\n",
       "  'jakarta',\n",
       "  '-',\n",
       "  'data',\n",
       "  'baru',\n",
       "  'balitbangkes',\n",
       "  'kemenkes',\n",
       "  'ri',\n",
       "  '13',\n",
       "  'november',\n",
       "  'tambah',\n",
       "  'varian',\n",
       "  'delta',\n",
       "  'tambah',\n",
       "  'jawa',\n",
       "  'barat',\n",
       "  '165',\n",
       "  'dki',\n",
       "  'jakarta',\n",
       "  '90',\n",
       "  'sulawesi',\n",
       "  'utara',\n",
       "  '86',\n",
       "  'balitbangkes',\n",
       "  'dki',\n",
       "  'jakarta',\n",
       "  'alami',\n",
       "  'tingkat',\n",
       "  'varian',\n",
       "  'delta',\n",
       "  'signifikan',\n",
       "  'varian',\n",
       "  'varian',\n",
       "  'alpha',\n",
       "  'varian',\n",
       "  'delta',\n",
       "  'beta',\n",
       "  'indonesia',\n",
       "  'asal',\n",
       "  'dki',\n",
       "  'jakarta',\n",
       "  'total',\n",
       "  '1',\n",
       "  '327',\n",
       "  'https',\n",
       "  'health',\n",
       "  'detik',\n",
       "  'com',\n",
       "  'berita-detikhealth',\n",
       "  'd-5812940',\n",
       "  'alert-kasus-varian-delta-covid-19-di-dki-meningkat'],\n",
       " ['corona',\n",
       "  'as',\n",
       "  'dadak',\n",
       "  'serang',\n",
       "  'delta',\n",
       "  'reda',\n",
       "  'jakarta',\n",
       "  '-',\n",
       "  'covid-19',\n",
       "  'wilayah',\n",
       "  'amerika',\n",
       "  'serikat',\n",
       "  'as',\n",
       "  'covid-19',\n",
       "  'catat',\n",
       "  'stabil',\n",
       "  'pasca',\n",
       "  'serang',\n",
       "  'varian',\n",
       "  'delta',\n",
       "  'musim',\n",
       "  'panas',\n",
       "  'kepala',\n",
       "  'nasihat',\n",
       "  'medis',\n",
       "  'gedung',\n",
       "  'putih',\n",
       "  'dr',\n",
       "  'anthony',\n",
       "  'fauci',\n",
       "  'senin',\n",
       "  '15',\n",
       "  '11',\n",
       "  '2021',\n",
       "  'nasional',\n",
       "  'turun',\n",
       "  '57',\n",
       "  'persen',\n",
       "  'minggu',\n",
       "  'puncak',\n",
       "  'gelombang',\n",
       "  'varian',\n",
       "  'delta',\n",
       "  'musim',\n",
       "  'panas',\n",
       "  'pasien',\n",
       "  'covid-19',\n",
       "  'area',\n",
       "  'barat',\n",
       "  'timur',\n",
       "  'laut',\n",
       "  'dadak',\n",
       "  'https',\n",
       "  'health',\n",
       "  'detik',\n",
       "  'com',\n",
       "  'berita-detikhealth',\n",
       "  'd-5813949',\n",
       "  'corona-di-as-mendadak-naik-lagi-usai-serangan-delta-sempat-mereda'],\n",
       " ['kembang', 'sistem', 'informasi', 'jadwal'],\n",
       " ['kembang', 'model', 'analisis', 'sentimen', 'berita'],\n",
       " ['analisis', 'sistem', 'input', 'output'],\n",
       " ['kembang', 'sistem', 'informasi', 'akademik', 'universitas'],\n",
       " ['kembang', 'sistem', 'cari', 'berita', 'ekonomi'],\n",
       " ['analisis', 'sistem', 'neraca', 'nasional'],\n",
       " ['kembang', 'sistem', 'informasi', 'layan', 'statistik'],\n",
       " ['kembang', 'sistem', 'cari', 'skripsi', 'di', 'universitas'],\n",
       " ['analisis', 'sentimen', 'publik', 'hadap', 'perintah'],\n",
       " ['kembang', 'model', 'klasifikasi', 'sentimen', 'berita']]"
      ]
     },
     "execution_count": 85,
     "metadata": {},
     "output_type": "execute_result"
    }
   ],
   "source": [
    "tokenized_corpus_new"
   ]
  },
  {
   "cell_type": "code",
   "execution_count": 68,
   "metadata": {},
   "outputs": [
    {
     "data": {
      "text/plain": [
       "{'1': 'wilayah bebas covid-19 cek 34 kab kota zona hijau baru jakarta - perintah rencana terap laku batas giat masyarakat ppkm level 3 hitung 24 desember 2021 2 januari 2021 menteri sehat ri bijak ppkm level 3 tahap kaji direktur cegah kendali sakit tular langsung p2pml kemenkes ri dr siti nadia tarmizi ppkm level 3 terap covid-19 signifikan picu tingkat mobilitas longgar protokol sehat https health detik com berita-detikhealth d-5816690 wilayah-kamu-sudah-bebas-covid-19-cek-34-kabkota-zona-hijau-terbaru',\n",
       " '2': 'vaksin covid-19 rutin gantung jelas jakarta - beri booster dosis tiga vaksin covid-19 indonesia rencana januari 2022 lantas ada vaksinasi covid-19 vaksinasi influenza ketua satgas covid-19 ikat dokter indonesia idi prof zubairi djoerban pasti kait turut vaksin covid-19 booster vaksinasi covid-19 https health detik com berita-detikhealth d-5816582 vaksin-covid-19-bakal-rutin-setiap-tahun-tergantung-ini-penjelasannya',\n",
       " '3': 'ri suntik booster 2022 ampuh lawan varian delta cs jakarta - pakar aku vaksin dosis 1-2 alami turun efektivitas varian corona varian delta booster dosis tiga vaksin covid-19 indonesia 2022 jenis vaksin ikut strain virus baru ketua satgas covid-19 ikat dokter indonesia idi prof zubairi djoerban singgung riset kait efektivitas vaksin covid-19 dosis 1 2 sebut dasar riset efektivitas vaksin covid-19 pfizer moderna bukti turun lawan varian delta https health detik com berita-detikhealth d-5816534 ri-mulai-suntikkan-booster-di-2022-masihkah-ampuh-lawan-varian-delta-cs',\n",
       " '4': 'alert varian delta covid-19 dki tingkat jakarta - data baru balitbangkes kemenkes ri 13 november tambah varian delta tambah jawa barat 165 dki jakarta 90 sulawesi utara 86 balitbangkes dki jakarta alami tingkat varian delta signifikan varian varian alpha varian delta beta indonesia asal dki jakarta total 1 327 https health detik com berita-detikhealth d-5812940 alert-kasus-varian-delta-covid-19-di-dki-meningkat',\n",
       " '5': 'corona as dadak serang delta reda jakarta - covid-19 wilayah amerika serikat as covid-19 catat stabil pasca serang varian delta musim panas kepala nasihat medis gedung putih dr anthony fauci senin 15 11 2021 nasional turun 57 persen minggu puncak gelombang varian delta musim panas pasien covid-19 area barat timur laut dadak https health detik com berita-detikhealth d-5813949 corona-di-as-mendadak-naik-lagi-usai-serangan-delta-sempat-mereda'}"
      ]
     },
     "execution_count": 68,
     "metadata": {},
     "output_type": "execute_result"
    }
   ],
   "source": [
    "doc_dict"
   ]
  },
  {
   "cell_type": "code",
   "execution_count": 69,
   "metadata": {},
   "outputs": [
    {
     "name": "stdout",
     "output_type": "stream",
     "text": [
      "Tokenized corpus = ['kemenkes', 'masyarakat', 'p2pml', 'batas', 'dr', 'kaji', 'rencana', 'laku', 'nadia', 'hitung', '2021', '3', 'https', 'wilayah', 'bijak', 'baru', 'siti', 'protokol', 'tingkat', 'zona', 'sehat', 'menteri', '-', 'januari', 'bebas', 'tular', 'tahap', 'mobilitas', 'kendali', 'perintah', 'health detik com berita-detikhealth d-5816690 wilayah-kamu-sudah-bebas-covid-19-cek-34-kabkota-zona-hijau-terbaru', 'picu', 'cek', 'giat', 'covid-19', 'sakit', 'jakarta', 'level', '2', 'ri', '24', 'tarmizi', 'langsung', 'longgar', 'ppkm', 'cegah', '34', 'kab kota', 'terap', 'signifikan', 'desember', 'direktur', 'hijau', 'dokter', 'kait', 'satgas', 'dosis', 'prof', 'influenza', 'ada', 'vaksinasi', 'vaksin', 'gantung', 'health detik com berita-detikhealth d-5816582 vaksin-covid-19-bakal-rutin-setiap-tahun-tergantung-ini-penjelasannya', 'jelas', 'beri', 'rutin', 'ketua', 'indonesia', 'zubairi', 'booster', 'ikat', 'idi', 'djoerban', 'tiga', '2022', 'lantas', 'turut', 'pasti', 'varian', 'efektivitas', 'aku', 'alami', 'virus', '1', 'health detik com berita-detikhealth d-5816534 ri-mulai-suntikkan-booster-di-2022-masihkah-ampuh-lawan-varian-delta-cs', 'ampuh', 'strain', 'dasar', 'jenis', 'lawan', 'bukti', 'corona', 'delta', 'moderna', 'singgung', '1-2', 'sebut', 'riset', 'pfizer', 'pakar', 'turun', 'ikut', 'suntik', 'cs', '86', 'tambah', 'data', 'asal', '1 327', 'jawa', 'dki', 'alpha', '13', 'sulawesi', 'utara', 'november', 'beta', 'total', 'barat', 'balitbangkes', 'health detik com berita-detikhealth d-5812940 alert-kasus-varian-delta-covid-19-di-dki-meningkat', 'alert', '165', '90', 'nasihat', 'pasca', 'persen', 'laut', 'serikat', 'stabil', 'anthony', 'musim', 'minggu', 'dadak', 'puncak', 'gelombang', '57', 'panas', 'reda', 'as', 'health detik com berita-detikhealth d-5813949 corona-di-as-mendadak-naik-lagi-usai-serangan-delta-sempat-mereda', 'kepala', 'gedung', 'area', 'fauci', 'amerika', '15 11 2021', 'nasional', 'serang', 'pasien', 'putih', 'medis', 'senin', 'catat', 'timur']\n"
     ]
    }
   ],
   "source": [
    "tokenized_corpus = list(inverted_index.keys())\n",
    "print(f\"Tokenized corpus = {tokenized_corpus}\")"
   ]
  },
  {
   "cell_type": "code",
   "execution_count": 73,
   "metadata": {},
   "outputs": [
    {
     "name": "stdout",
     "output_type": "stream",
     "text": [
      "[0. 0. 0. 0. 0. 0. 0. 0. 0. 0. 0. 0. 0. 0. 0. 0. 0. 0. 0. 0. 0. 0. 0. 0.\n",
      " 0. 0. 0. 0. 0. 0. 0. 0. 0. 0. 0. 0. 0. 0. 0. 0. 0. 0. 0. 0. 0. 0. 0. 0.\n",
      " 0. 0. 0. 0. 0. 0. 0. 0. 0. 0. 0. 0. 0. 0. 0. 0. 0. 0. 0. 0. 0. 0. 0. 0.\n",
      " 0. 0. 0. 0. 0. 0. 0. 0. 0. 0. 0. 0. 0. 0. 0. 0. 0. 0. 0. 0. 0. 0. 0. 0.\n",
      " 0. 0. 0. 0. 0. 0. 0. 0. 0. 0. 0. 0. 0. 0. 0. 0. 0. 0. 0. 0. 0. 0. 0. 0.\n",
      " 0. 0. 0. 0. 0. 0. 0. 0. 0. 0. 0. 0. 0. 0. 0. 0. 0. 0. 0. 0. 0. 0. 0. 0.\n",
      " 0. 0. 0. 0. 0. 0. 0. 0. 0. 0. 0. 0.]\n"
     ]
    }
   ],
   "source": [
    "query = \"vaksin corona jakarta\"\n",
    "\n",
    "tokenized_query = tokenization(query)\n",
    "\n",
    "bm25 = BM25Okapi(tokenized_corpus)\n",
    "\n",
    "doc_scores = bm25.get_scores(tokenized_query)\n",
    "\n",
    "print(doc_scores)"
   ]
  }
 ],
 "metadata": {
  "kernelspec": {
   "display_name": "base",
   "language": "python",
   "name": "python3"
  },
  "language_info": {
   "codemirror_mode": {
    "name": "ipython",
    "version": 3
   },
   "file_extension": ".py",
   "mimetype": "text/x-python",
   "name": "python",
   "nbconvert_exporter": "python",
   "pygments_lexer": "ipython3",
   "version": "3.11.4"
  }
 },
 "nbformat": 4,
 "nbformat_minor": 2
}
