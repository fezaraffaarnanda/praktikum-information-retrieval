{
 "cells": [
  {
   "cell_type": "markdown",
   "metadata": {},
   "source": [
    "# MODUL 7: RELEVANCE FEEDBACK AND QUERY EXPANSION"
   ]
  },
  {
   "cell_type": "markdown",
   "metadata": {},
   "source": [
    "## A. Relevance Feedback"
   ]
  },
  {
   "cell_type": "code",
   "execution_count": null,
   "metadata": {},
   "outputs": [],
   "source": [
    "from sklearn.decomposition import TruncatedSVD\n",
    "import matplotlib.pyplot as plt\n",
    "DT = TD.transpose()\n",
    "print(DT)\n",
    "model = TruncatedSVD(n_components=2, random_state=7).fit(DT)\n",
    "DT_reduced = model.transform(DT)\n",
    "QT_reduced = model.transform(TQ.transpose())\n",
    "print(QT_reduced)\n",
    "print(DT_reduced)\n",
    "plt.scatter(DT_reduced[:, 0], DT_reduced[:, 1])\n",
    "plt.scatter(QT_reduced[:, 0], QT_reduced[:, 1], color=[\"red\"])\n",
    "labels=list(doc_dict.keys())\n",
    "for i, txt in enumerate(labels):\n",
    "    plt.annotate(txt, (DT_reduced[i, 0], DT_reduced[i, 1]))\n",
    "plt.annotate(\"query\", (QT_reduced[0, 0], QT_reduced[0, 1]))\n",
    "plt.show()\n"
   ]
  }
 ],
 "metadata": {
  "language_info": {
   "name": "python"
  }
 },
 "nbformat": 4,
 "nbformat_minor": 2
}
