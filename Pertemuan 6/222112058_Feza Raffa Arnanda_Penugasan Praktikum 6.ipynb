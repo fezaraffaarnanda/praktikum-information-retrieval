{
 "cells": [
  {
   "cell_type": "markdown",
   "metadata": {},
   "source": [
    "Sumber : https://www.audiolabs-erlangen.de/resources/MIR/FMP/C7/C7S3_Evaluation.html"
   ]
  },
  {
   "cell_type": "markdown",
   "metadata": {},
   "source": [
    "A. Evaluasi untuk Unranked Retrieval Set"
   ]
  },
  {
   "cell_type": "code",
   "execution_count": 16,
   "metadata": {},
   "outputs": [
    {
     "name": "stdout",
     "output_type": "stream",
     "text": [
      "100.0 60.0 75.0\n"
     ]
    }
   ],
   "source": [
    "top_3 = {'doc7': 0.7689768599816609, 'doc1': 0.4641504133851462, 'doc4': 0.35626622628022314}\n",
    "rel_judgement1 = {'doc1':1, 'doc2':0, 'doc3':0, 'doc4':1, 'doc5':1, 'doc6':0, 'doc7':1, 'doc8':1, 'doc9':0, 'doc10':0}\n",
    "rel_docs = []\n",
    "for doc_id, rel in rel_judgement1.items():\n",
    "    if rel==1:\n",
    "        rel_docs.append(doc_id)\n",
    "retrieved_rel_doc3 = [value for value in list(top_3.keys()) if value in rel_docs]\n",
    "prec3 = len(retrieved_rel_doc3)/len(top_3)*100\n",
    "rec3 = len(retrieved_rel_doc3)/len(rel_docs)*100\n",
    "fScore3 = 2 * prec3 * rec3 / (prec3 + rec3)\n",
    "print(prec3, rec3, fScore3)"
   ]
  },
  {
   "cell_type": "markdown",
   "metadata": {},
   "source": [
    "Kemudian hitung skor precision, recall, F-measure, jika dokumen yang dihasilkan oleh sistem information retrieval adalah 5 dokumen teratas."
   ]
  },
  {
   "cell_type": "code",
   "execution_count": 17,
   "metadata": {},
   "outputs": [
    {
     "name": "stdout",
     "output_type": "stream",
     "text": [
      "60.0 60.0 60.0\n"
     ]
    }
   ],
   "source": [
    "top_5 = {'doc7': 0.7689768599816609, 'doc1': 0.4641504133851462, 'doc4': 0.35626622628022314, 'doc3': 0.10856998991379904, 'doc6': 0.10856998991379904}\n",
    "rel_judgement1 = {'doc1':1, 'doc2':0, 'doc3':0, 'doc4':1, 'doc5':1, 'doc6':0, 'doc7':1, 'doc8':1, 'doc9':0, 'doc10':0}\n",
    "rel_docs = []\n",
    "for doc_id, rel in rel_judgement1.items():\n",
    "    if rel==1:\n",
    "        rel_docs.append(doc_id)\n",
    "retrieved_rel_doc5 = [value for value in list(top_5.keys()) if value in rel_docs]\n",
    "prec5 = len(retrieved_rel_doc5)/len(top_5)*100\n",
    "rec5 = len(retrieved_rel_doc5)/len(rel_docs)*100\n",
    "fScore5 = 2 * prec5 * rec5 / (prec5 + rec5)\n",
    "print(prec5, rec5, fScore5)\n"
   ]
  },
  {
   "cell_type": "markdown",
   "metadata": {},
   "source": [
    "B. Evaluasi untuk Ranked Retrieval Set"
   ]
  },
  {
   "cell_type": "code",
   "execution_count": 18,
   "metadata": {},
   "outputs": [],
   "source": [
    "import numpy as np\n",
    "def compute_prf_metrics(I, score, I_Q):\n",
    "    \"\"\"Compute precision, recall, F-measures and other\n",
    "    evaluation metrics for document-level retrieval\n",
    "\n",
    "    Notebook: C7/C7S3_Evaluation.ipynb\n",
    "\n",
    "    Args:\n",
    "        I (np.ndarray): Array of items\n",
    "        score (np.ndarray): Array containing the score values of the times\n",
    "        I_Q (np.ndarray): Array of relevant (positive) items\n",
    "\n",
    "    Returns:\n",
    "        P_Q (float): Precision\n",
    "        R_Q (float): Recall\n",
    "        F_Q (float): F-measures sorted by rank\n",
    "        BEP (float): Break-even point\n",
    "        F_max (float): Maximal F-measure\n",
    "        P_average (float): Mean average\n",
    "        X_Q (np.ndarray): Relevance function\n",
    "        rank (np.ndarray): Array of rank values\n",
    "        I_sorted (np.ndarray): Array of items sorted by rank\n",
    "        rank_sorted (np.ndarray): Array of rank values sorted by rank\n",
    "    \"\"\"\n",
    "    # Compute rank and sort documents according to rank\n",
    "    K = len(I)\n",
    "    index_sorted = np.flip(np.argsort(score))\n",
    "    I_sorted = I[index_sorted]\n",
    "    rank = np.argsort(index_sorted) + 1\n",
    "    rank_sorted = np.arange(1, K+1)\n",
    "\n",
    "    # Compute relevance function X_Q (indexing starts with zero)\n",
    "    # X_Q = np.zeros(K, dtype=bool)\n",
    "    # for i in range(K):\n",
    "    #     if I_sorted[i] in I_Q:\n",
    "    #         X_Q[i] = True\n",
    "    X_Q = np.isin(I_sorted, I_Q)\n",
    "    # P_Q = np.cumsum(X_Q) / np.arange(1, K+1)\n",
    "\n",
    "    # Compute precision and recall values (indexing starts with zero)\n",
    "    M = len(I_Q)\n",
    "    # P_Q = np.zeros(K)\n",
    "    # R_Q = np.zeros(K)\n",
    "    # for i in range(K):\n",
    "    #     r = rank_sorted[i]\n",
    "    #     P_Q[i] = np.sum(X_Q[:r]) / r\n",
    "    #     R_Q[i] = np.sum(X_Q[:r]) / M\n",
    "    P_Q = np.cumsum(X_Q) / np.arange(1, K+1)\n",
    "    R_Q = np.cumsum(X_Q) / M\n",
    "\n",
    "    # Break-even point\n",
    "    BEP = P_Q[M-1]\n",
    "    # Maximal F-measure\n",
    "    sum_PR = P_Q + R_Q\n",
    "    sum_PR[sum_PR == 0] = 1  # Avoid division by zero\n",
    "    F_Q = 2 * (P_Q * R_Q) / sum_PR\n",
    "    F_max = F_Q.max()\n",
    "    # Average precision\n",
    "    P_average = np.sum(P_Q * X_Q) / len(I_Q)\n",
    "\n",
    "    return P_Q, R_Q, F_Q, BEP, F_max, P_average, X_Q, rank, I_sorted, rank_sorted"
   ]
  },
  {
   "cell_type": "code",
   "execution_count": 19,
   "metadata": {},
   "outputs": [],
   "source": [
    "import pandas as pd"
   ]
  },
  {
   "cell_type": "code",
   "execution_count": 20,
   "metadata": {},
   "outputs": [
    {
     "name": "stdout",
     "output_type": "stream",
     "text": [
      "   Rank  ID  Score  $\\chi_\\mathcal{Q}$      P(r)  R(r)      F(r)\n",
      "0     1   6    3.7               False  0.000000  0.00  0.000000\n",
      "1     2   3    3.6                True  0.500000  0.25  0.333333\n",
      "2     3   4    3.5                True  0.666667  0.50  0.571429\n",
      "3     4   5    3.2               False  0.500000  0.50  0.500000\n",
      "4     5   8    3.1                True  0.600000  0.75  0.666667\n",
      "5     6   2    2.6                True  0.666667  1.00  0.800000\n",
      "6     7   7    1.5               False  0.571429  1.00  0.727273\n",
      "7     8   1    0.7               False  0.500000  1.00  0.666667\n",
      "Break-even point = 0.50\n",
      "F_max = 0.80\n",
      "Average precision = 0.60833\n"
     ]
    }
   ],
   "source": [
    "relevance_score1 = {'doc1': 0.4641504133851462, 'doc2': 0.0,\n",
    "'doc3': 0.10856998991379904, 'doc4': 0.35626622628022314,\n",
    "'doc5': 0.10705617011820337, 'doc6': 0.10856998991379904,\n",
    "'doc7': 0.7689768599816609, 'doc8': 0.08967792817935699,\n",
    "'doc9': 0.0, 'doc10': 0.0}\n",
    "\n",
    "I = np.array([1, 2, 3, 4, 5, 6, 7, 8])\n",
    "score = np.array([0.7, 2.6, 3.6, 3.5, 3.2, 3.7, 1.5, 3.1])\n",
    "I_Q = np.array([2, 3, 4, 8])\n",
    "\n",
    "output = compute_prf_metrics(I, score, I_Q)\n",
    "P_Q, R_Q, F_Q, BEP, F_max, P_average, X_Q, rank, I_sorted, rank_sorted = output\n",
    "\n",
    "# Arrange output as tables\n",
    "score_sorted = np.flip(np.sort(score))\n",
    "df = pd.DataFrame({'Rank': rank_sorted, 'ID': I_sorted,\n",
    "                   'Score': score_sorted,\n",
    "                   '$\\chi_\\mathcal{Q}$': X_Q, \n",
    "                   'P(r)': P_Q, \n",
    "                   'R(r)': R_Q,\n",
    "                   'F(r)': F_Q})\n",
    "print(df)\n",
    "\n",
    "print('Break-even point = %.2f' % BEP)\n",
    "print('F_max = %.2f' % F_max)\n",
    "print('Average precision =', np.round(P_average, 5))"
   ]
  },
  {
   "cell_type": "code",
   "execution_count": 21,
   "metadata": {},
   "outputs": [],
   "source": [
    "from matplotlib import pyplot as plt\n",
    "def plot_PR_curve(P_Q, R_Q, figsize=(3, 3)):\n",
    "    fig, ax = plt.subplots(1, 1, figsize=figsize)\n",
    "    plt.plot(R_Q, P_Q, linestyle='--', marker='o', color='k',mfc='r')\n",
    "    plt.xlim([0, 1.1])\n",
    "    plt.ylim([0, 1.1])\n",
    "    ax.set_aspect('equal', 'box')\n",
    "    plt.title('PR curve')\n",
    "    plt.xlabel('Recall')\n",
    "    plt.ylabel('Precision')\n",
    "    plt.grid()\n",
    "    plt.tight_layout()\n",
    "    ax.plot(BEP, BEP, color='green', marker='o',fillstyle='none', markersize=15)\n",
    "    ax.set_title('PR curve')\n",
    "    plt.show()\n",
    "    return fig, ax"
   ]
  },
  {
   "cell_type": "code",
   "execution_count": 22,
   "metadata": {},
   "outputs": [
    {
     "data": {
      "image/png": "[encoded data removed]",
      "text/plain": [
       "<Figure size 300x300 with 1 Axes>"
      ]
     },
     "metadata": {},
     "output_type": "display_data"
    },
    {
     "data": {
      "text/plain": [
       "(<Figure size 300x300 with 1 Axes>,\n",
       " <Axes: title={'center': 'PR curve'}, xlabel='Recall', ylabel='Precision'>)"
      ]
     },
     "execution_count": 22,
     "metadata": {},
     "output_type": "execute_result"
    }
   ],
   "source": [
    "plot_PR_curve(P_Q, R_Q, figsize=(3,3))"
   ]
  }
 ],
 "metadata": {
  "kernelspec": {
   "display_name": "base",
   "language": "python",
   "name": "python3"
  },
  "language_info": {
   "codemirror_mode": {
    "name": "ipython",
    "version": 3
   },
   "file_extension": ".py",
   "mimetype": "text/x-python",
   "name": "python",
   "nbconvert_exporter": "python",
   "pygments_lexer": "ipython3",
   "version": "3.11.4"
  },
  "orig_nbformat": 4
 },
 "nbformat": 4,
 "nbformat_minor": 2
}
